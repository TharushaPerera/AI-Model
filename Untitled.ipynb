{
 "cells": [
  {
   "cell_type": "code",
   "execution_count": 1,
   "id": "7d82bcfe",
   "metadata": {},
   "outputs": [],
   "source": [
    "import speech_recognition as sr"
   ]
  },
  {
   "cell_type": "code",
   "execution_count": 3,
   "id": "7407a033",
   "metadata": {},
   "outputs": [],
   "source": [
    "listner = sr.Recognizer()"
   ]
  },
  {
   "cell_type": "code",
   "execution_count": null,
   "id": "bc1f87a9",
   "metadata": {},
   "outputs": [],
   "source": [
    "try:\n",
    "    with sr.Microphone() as source:\n",
    "        print('Listening...')\n",
    "        voice = listner.listen(source)\n",
    "        command = listner.recognize_google(voice)\n",
    "        print(command)\n",
    "        "
   ]
  }
 ],
 "metadata": {
  "kernelspec": {
   "display_name": "Python 3 (ipykernel)",
   "language": "python",
   "name": "python3"
  },
  "language_info": {
   "codemirror_mode": {
    "name": "ipython",
    "version": 3
   },
   "file_extension": ".py",
   "mimetype": "text/x-python",
   "name": "python",
   "nbconvert_exporter": "python",
   "pygments_lexer": "ipython3",
   "version": "3.9.15"
  }
 },
 "nbformat": 4,
 "nbformat_minor": 5
}
